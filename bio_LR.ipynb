{
  "nbformat": 4,
  "nbformat_minor": 0,
  "metadata": {
    "colab": {
      "provenance": []
    },
    "kernelspec": {
      "name": "python3",
      "display_name": "Python 3"
    }
  },
  "cells": [
    {
      "cell_type": "code",
      "metadata": {
        "id": "_sByYIkXYSCg"
      },
      "source": [
        "import tensorflow as tf\n",
        "import pandas as pd\n",
        "import numpy as np\n",
        "\n",
        "df_train = pd.read_csv('trainset.txt', sep=' ')\n",
        "df_test = pd.read_csv('testset.txt', sep=' ')"
      ],
      "execution_count": null,
      "outputs": []
    },
    {
      "cell_type": "code",
      "metadata": {
        "id": "ckNh9By1ePXb",
        "outputId": "158c642e-4be6-463c-9b3e-ea07ab868b1b",
        "colab": {
          "base_uri": "https://localhost:8080/",
          "height": 74
        }
      },
      "source": [
        "len(df_train.columns)"
      ],
      "execution_count": null,
      "outputs": [
        {
          "output_type": "execute_result",
          "data": {
            "text/plain": [
              "544"
            ]
          },
          "metadata": {
            "tags": []
          },
          "execution_count": 22
        }
      ]
    },
    {
      "cell_type": "code",
      "metadata": {
        "id": "OXlw259Fb84n",
        "outputId": "6113bbef-4a3a-472b-c438-3a1973d88f43",
        "colab": {
          "base_uri": "https://localhost:8080/",
          "height": 380
        }
      },
      "source": [
        "topK = 16\n",
        "cc = df_train.corr()['Class']\n",
        "kidx = np.argpartition(np.abs(cc), -topK)[-topK:]\n",
        "cc[kidx]"
      ],
      "execution_count": null,
      "outputs": [
        {
          "output_type": "execute_result",
          "data": {
            "text/plain": [
              "Var265   -0.212385\n",
              "Var264   -0.212996\n",
              "Var355    0.213951\n",
              "Var329    0.214098\n",
              "Var319    0.214250\n",
              "Var328    0.237184\n",
              "Var544   -0.241957\n",
              "Var327    0.257607\n",
              "Var326    0.274823\n",
              "Var325    0.288550\n",
              "Var324    0.298841\n",
              "Var323    0.304640\n",
              "Var322    0.303018\n",
              "Var321    0.291104\n",
              "Var320    0.262235\n",
              "Class     1.000000\n",
              "Name: Class, dtype: float64"
            ]
          },
          "metadata": {
            "tags": []
          },
          "execution_count": 20
        }
      ]
    },
    {
      "cell_type": "code",
      "metadata": {
        "id": "4qRkuVsZd0-O",
        "outputId": "fafeb616-aef1-4868-f0dd-5faec6470995",
        "colab": {
          "base_uri": "https://localhost:8080/",
          "height": 340
        }
      },
      "source": [
        "cc = df_test.corr()['Class']\n",
        "kidx = np.argpartition(np.abs(cc), -topK)[-topK:]\n",
        "cc[kidx]"
      ],
      "execution_count": null,
      "outputs": [
        {
          "output_type": "execute_result",
          "data": {
            "text/plain": [
              "Var391    0.196158\n",
              "Var395    0.197028\n",
              "Var394    0.202221\n",
              "Var325    0.248575\n",
              "Var326    0.230903\n",
              "Var327    0.213457\n",
              "Var319    0.224652\n",
              "Var392    0.202248\n",
              "Var393    0.204252\n",
              "Var320    0.255348\n",
              "Var544   -0.261721\n",
              "Var324    0.264937\n",
              "Var323    0.277085\n",
              "Var322    0.281276\n",
              "Var321    0.274112\n",
              "Class     1.000000\n",
              "Name: Class, dtype: float64"
            ]
          },
          "metadata": {
            "tags": []
          },
          "execution_count": 21
        }
      ]
    },
    {
      "cell_type": "code",
      "metadata": {
        "id": "idVcsebveCB1",
        "outputId": "681c2b6f-31f5-4d70-b0eb-bded2c35fb91",
        "colab": {
          "base_uri": "https://localhost:8080/",
          "height": 223
        }
      },
      "source": [
        "keras = tf.keras\n",
        "\n",
        "tf.set_random_seed(42)\n",
        "\n",
        "model = keras.models.Sequential([\n",
        "    keras.layers.Input(shape=(len(df_train.columns) - 1)),\n",
        "    keras.layers.Dense(1, activation='sigmoid',\n",
        "                       kernel_regularizer=keras.regularizers.l2(0.01))\n",
        "])\n",
        "\n",
        "model.compile(keras.optimizers.Adam(lr=0.0001), 'binary_crossentropy', metrics=['acc'])\n",
        "model.summary()"
      ],
      "execution_count": null,
      "outputs": [
        {
          "output_type": "stream",
          "text": [
            "Model: \"sequential_6\"\n",
            "_________________________________________________________________\n",
            "Layer (type)                 Output Shape              Param #   \n",
            "=================================================================\n",
            "dense_13 (Dense)             (None, 1)                 544       \n",
            "=================================================================\n",
            "Total params: 544\n",
            "Trainable params: 544\n",
            "Non-trainable params: 0\n",
            "_________________________________________________________________\n"
          ],
          "name": "stdout"
        }
      ]
    },
    {
      "cell_type": "code",
      "metadata": {
        "id": "icFsbkuUew0u",
        "outputId": "a1f29884-e02b-4066-93a2-74031fcec097",
        "colab": {
          "base_uri": "https://localhost:8080/",
          "height": 1000
        }
      },
      "source": [
        "data_cols = list(df_train.columns)\n",
        "data_cols.remove('Class')\n",
        "\n",
        "hist = model.fit(df_train[data_cols].values, df_train['Class'].values,\n",
        "                validation_data=(df_test[data_cols].values, df_test['Class'].values),\n",
        "                epochs=30)\n"
      ],
      "execution_count": null,
      "outputs": [
        {
          "output_type": "stream",
          "text": [
            "Train on 5840 samples, validate on 648 samples\n",
            "Epoch 1/30\n",
            "5840/5840 [==============================] - 1s 108us/sample - loss: 3.8750 - acc: 0.4471 - val_loss: 3.8252 - val_acc: 0.4630\n",
            "Epoch 2/30\n",
            "5840/5840 [==============================] - 0s 67us/sample - loss: 2.8856 - acc: 0.5202 - val_loss: 3.0443 - val_acc: 0.5015\n",
            "Epoch 3/30\n",
            "5840/5840 [==============================] - 0s 64us/sample - loss: 2.3036 - acc: 0.5519 - val_loss: 2.3945 - val_acc: 0.5123\n",
            "Epoch 4/30\n",
            "5840/5840 [==============================] - 0s 65us/sample - loss: 1.7954 - acc: 0.5575 - val_loss: 1.7776 - val_acc: 0.5185\n",
            "Epoch 5/30\n",
            "5840/5840 [==============================] - 0s 63us/sample - loss: 1.3155 - acc: 0.5560 - val_loss: 1.1926 - val_acc: 0.5170\n",
            "Epoch 6/30\n",
            "5840/5840 [==============================] - 0s 60us/sample - loss: 0.9363 - acc: 0.5644 - val_loss: 0.8467 - val_acc: 0.5401\n",
            "Epoch 7/30\n",
            "5840/5840 [==============================] - 0s 62us/sample - loss: 0.7746 - acc: 0.5863 - val_loss: 0.7762 - val_acc: 0.5617\n",
            "Epoch 8/30\n",
            "5840/5840 [==============================] - 0s 62us/sample - loss: 0.7224 - acc: 0.6113 - val_loss: 0.7265 - val_acc: 0.5818\n",
            "Epoch 9/30\n",
            "5840/5840 [==============================] - 0s 59us/sample - loss: 0.6806 - acc: 0.6277 - val_loss: 0.6861 - val_acc: 0.6142\n",
            "Epoch 10/30\n",
            "5840/5840 [==============================] - 0s 60us/sample - loss: 0.6499 - acc: 0.6577 - val_loss: 0.6590 - val_acc: 0.6543\n",
            "Epoch 11/30\n",
            "5840/5840 [==============================] - 0s 60us/sample - loss: 0.6299 - acc: 0.6705 - val_loss: 0.6394 - val_acc: 0.6713\n",
            "Epoch 12/30\n",
            "5840/5840 [==============================] - 0s 61us/sample - loss: 0.6179 - acc: 0.6791 - val_loss: 0.6280 - val_acc: 0.6744\n",
            "Epoch 13/30\n",
            "5840/5840 [==============================] - 0s 62us/sample - loss: 0.6110 - acc: 0.6844 - val_loss: 0.6215 - val_acc: 0.6759\n",
            "Epoch 14/30\n",
            "5840/5840 [==============================] - 0s 61us/sample - loss: 0.6064 - acc: 0.6892 - val_loss: 0.6172 - val_acc: 0.6790\n",
            "Epoch 15/30\n",
            "5840/5840 [==============================] - 0s 61us/sample - loss: 0.6036 - acc: 0.6902 - val_loss: 0.6329 - val_acc: 0.6852\n",
            "Epoch 16/30\n",
            "5840/5840 [==============================] - 0s 61us/sample - loss: 0.6040 - acc: 0.6913 - val_loss: 0.6129 - val_acc: 0.6852\n",
            "Epoch 17/30\n",
            "5840/5840 [==============================] - 0s 67us/sample - loss: 0.6031 - acc: 0.6926 - val_loss: 0.6152 - val_acc: 0.6867\n",
            "Epoch 18/30\n",
            "5840/5840 [==============================] - 0s 61us/sample - loss: 0.6023 - acc: 0.6940 - val_loss: 0.6120 - val_acc: 0.6836\n",
            "Epoch 19/30\n",
            "5840/5840 [==============================] - 0s 61us/sample - loss: 0.6017 - acc: 0.6937 - val_loss: 0.6180 - val_acc: 0.6898\n",
            "Epoch 20/30\n",
            "5840/5840 [==============================] - 0s 60us/sample - loss: 0.6008 - acc: 0.6938 - val_loss: 0.6126 - val_acc: 0.6929\n",
            "Epoch 21/30\n",
            "5840/5840 [==============================] - 0s 63us/sample - loss: 0.6006 - acc: 0.6950 - val_loss: 0.6136 - val_acc: 0.6914\n",
            "Epoch 22/30\n",
            "5840/5840 [==============================] - 0s 62us/sample - loss: 0.6017 - acc: 0.6916 - val_loss: 0.6176 - val_acc: 0.6929\n",
            "Epoch 23/30\n",
            "5840/5840 [==============================] - 0s 61us/sample - loss: 0.6006 - acc: 0.6945 - val_loss: 0.6117 - val_acc: 0.6944\n",
            "Epoch 24/30\n",
            "5840/5840 [==============================] - 0s 62us/sample - loss: 0.6008 - acc: 0.6923 - val_loss: 0.6116 - val_acc: 0.6867\n",
            "Epoch 25/30\n",
            "5840/5840 [==============================] - 0s 62us/sample - loss: 0.6006 - acc: 0.6940 - val_loss: 0.6113 - val_acc: 0.6883\n",
            "Epoch 26/30\n",
            "5840/5840 [==============================] - 0s 59us/sample - loss: 0.6011 - acc: 0.6964 - val_loss: 0.6151 - val_acc: 0.6728\n",
            "Epoch 27/30\n",
            "5840/5840 [==============================] - 0s 62us/sample - loss: 0.6022 - acc: 0.6928 - val_loss: 0.6121 - val_acc: 0.6944\n",
            "Epoch 28/30\n",
            "5840/5840 [==============================] - 0s 61us/sample - loss: 0.6003 - acc: 0.6930 - val_loss: 0.6122 - val_acc: 0.6806\n",
            "Epoch 29/30\n",
            "5840/5840 [==============================] - 0s 60us/sample - loss: 0.6007 - acc: 0.6935 - val_loss: 0.6113 - val_acc: 0.6944\n",
            "Epoch 30/30\n",
            "5840/5840 [==============================] - 0s 59us/sample - loss: 0.6009 - acc: 0.6933 - val_loss: 0.6116 - val_acc: 0.6929\n"
          ],
          "name": "stdout"
        }
      ]
    },
    {
      "cell_type": "code",
      "metadata": {
        "id": "7uEcdONDfmRF",
        "outputId": "25f674f6-2341-4c58-a3c0-d187cd86fd9b",
        "colab": {
          "base_uri": "https://localhost:8080/",
          "height": 332
        }
      },
      "source": [
        "%matplotlib inline\n",
        "import matplotlib.pyplot as plt\n",
        "\n",
        "fig, axes = plt.subplots(2, 1, sharex=True)\n",
        "axes[0].plot(hist.history['loss'], label='loss')\n",
        "axes[0].plot(hist.history['val_loss'], label='val_loss')\n",
        "\n",
        "axes[1].plot(hist.history['acc'], label='accuracy')\n",
        "axes[1].plot(hist.history['val_acc'], label='val_accuracy')\n",
        "\n",
        "fig.legend()\n",
        "plt.plot()"
      ],
      "execution_count": null,
      "outputs": [
        {
          "output_type": "execute_result",
          "data": {
            "text/plain": [
              "[]"
            ]
          },
          "metadata": {
            "tags": []
          },
          "execution_count": 66
        },
        {
          "output_type": "display_data",
          "data": {
            "image/png": "[encoded data removed]",
            "text/plain": [
              "<Figure size 432x288 with 2 Axes>"
            ]
          },
          "metadata": {
            "tags": []
          }
        }
      ]
    },
    {
      "cell_type": "code",
      "metadata": {
        "id": "l2iIoXS_iGBA",
        "outputId": "823713fb-9c71-4691-95ba-04121240ed09",
        "colab": {
          "base_uri": "https://localhost:8080/",
          "height": 74
        }
      },
      "source": [
        "from sklearn.metrics import roc_auc_score\n",
        "\n",
        "y_pred = model.predict(df_test[data_cols].values)\n",
        "roc_auc_score(df_test['Class'].values, y_pred)"
      ],
      "execution_count": null,
      "outputs": [
        {
          "output_type": "execute_result",
          "data": {
            "text/plain": [
              "0.6364262794141846"
            ]
          },
          "metadata": {
            "tags": []
          },
          "execution_count": 67
        }
      ]
    },
    {
      "cell_type": "code",
      "metadata": {
        "id": "tVxOiED4kM3X",
        "outputId": "479449bd-6026-4909-cbaa-b614276dae6d",
        "colab": {
          "base_uri": "https://localhost:8080/",
          "height": 355
        }
      },
      "source": [
        "tf.set_random_seed(42)\n",
        "\n",
        "model = keras.models.Sequential([\n",
        "    keras.layers.Input(shape=(len(df_train.columns) - 1)),\n",
        "    keras.layers.Dense(512, activation='relu',\n",
        "                      kernel_regularizer=keras.regularizers.l2(0.01)),\n",
        "    keras.layers.Dense(256, activation='linear',\n",
        "                      kernel_regularizer=keras.regularizers.l2(0.01)),\n",
        "    keras.layers.Dense(128, activation='relu',\n",
        "                      kernel_regularizer=keras.regularizers.l2(0.01)),\n",
        "    keras.layers.Dense(64, activation='linear',\n",
        "                      kernel_regularizer=keras.regularizers.l2(0.01)),\n",
        "    keras.layers.Dense(1, activation='sigmoid',\n",
        "                       kernel_regularizer=keras.regularizers.l2(0.01))\n",
        "])\n",
        "\n",
        "model.compile(keras.optimizers.Adam(lr=0.001), 'binary_crossentropy', metrics=['acc'])\n",
        "model.summary()"
      ],
      "execution_count": null,
      "outputs": [
        {
          "output_type": "stream",
          "text": [
            "Model: \"sequential_7\"\n",
            "_________________________________________________________________\n",
            "Layer (type)                 Output Shape              Param #   \n",
            "=================================================================\n",
            "dense_14 (Dense)             (None, 512)               278528    \n",
            "_________________________________________________________________\n",
            "dense_15 (Dense)             (None, 256)               131328    \n",
            "_________________________________________________________________\n",
            "dense_16 (Dense)             (None, 128)               32896     \n",
            "_________________________________________________________________\n",
            "dense_17 (Dense)             (None, 64)                8256      \n",
            "_________________________________________________________________\n",
            "dense_18 (Dense)             (None, 1)                 65        \n",
            "=================================================================\n",
            "Total params: 451,073\n",
            "Trainable params: 451,073\n",
            "Non-trainable params: 0\n",
            "_________________________________________________________________\n"
          ],
          "name": "stdout"
        }
      ]
    },
    {
      "cell_type": "code",
      "metadata": {
        "id": "Vu5zub4vkTa_",
        "outputId": "9c0c9c10-d0c3-4365-80d4-df409bfe8654",
        "colab": {
          "base_uri": "https://localhost:8080/",
          "height": 1000
        }
      },
      "source": [
        "hist = model.fit(df_train[data_cols].values, df_train['Class'].values,\n",
        "                validation_data=(df_test[data_cols].values, df_test['Class'].values),\n",
        "                epochs=50)\n",
        "\n",
        "\n",
        "y_pred = model.predict(df_test[data_cols].values)\n",
        "roc_auc_score(df_test['Class'].values, y_pred)"
      ],
      "execution_count": null,
      "outputs": [
        {
          "output_type": "stream",
          "text": [
            "Train on 5840 samples, validate on 648 samples\n",
            "Epoch 1/50\n",
            "5840/5840 [==============================] - 2s 293us/sample - loss: 6.5364 - acc: 0.5957 - val_loss: 4.3714 - val_acc: 0.6682\n",
            "Epoch 2/50\n",
            "5840/5840 [==============================] - 1s 222us/sample - loss: 3.9284 - acc: 0.6700 - val_loss: 3.5239 - val_acc: 0.6790\n",
            "Epoch 3/50\n",
            "5840/5840 [==============================] - 1s 229us/sample - loss: 3.1806 - acc: 0.6784 - val_loss: 2.8719 - val_acc: 0.6713\n",
            "Epoch 4/50\n",
            "5840/5840 [==============================] - 1s 228us/sample - loss: 2.5947 - acc: 0.6776 - val_loss: 2.3693 - val_acc: 0.6821\n",
            "Epoch 5/50\n",
            "5840/5840 [==============================] - 1s 230us/sample - loss: 2.1464 - acc: 0.6795 - val_loss: 1.9642 - val_acc: 0.6759\n",
            "Epoch 6/50\n",
            "5840/5840 [==============================] - 1s 222us/sample - loss: 1.8018 - acc: 0.6815 - val_loss: 1.6606 - val_acc: 0.6821\n",
            "Epoch 7/50\n",
            "5840/5840 [==============================] - 1s 225us/sample - loss: 1.5308 - acc: 0.6788 - val_loss: 1.4257 - val_acc: 0.6821\n",
            "Epoch 8/50\n",
            "5840/5840 [==============================] - 1s 227us/sample - loss: 1.3307 - acc: 0.6772 - val_loss: 1.2432 - val_acc: 0.6821\n",
            "Epoch 9/50\n",
            "5840/5840 [==============================] - 1s 225us/sample - loss: 1.1722 - acc: 0.6805 - val_loss: 1.1093 - val_acc: 0.6775\n",
            "Epoch 10/50\n",
            "5840/5840 [==============================] - 1s 228us/sample - loss: 1.0511 - acc: 0.6791 - val_loss: 1.0284 - val_acc: 0.6451\n",
            "Epoch 11/50\n",
            "5840/5840 [==============================] - 1s 224us/sample - loss: 0.9627 - acc: 0.6817 - val_loss: 0.9556 - val_acc: 0.6914\n",
            "Epoch 12/50\n",
            "5840/5840 [==============================] - 1s 225us/sample - loss: 0.8874 - acc: 0.6856 - val_loss: 0.8789 - val_acc: 0.6698\n",
            "Epoch 13/50\n",
            "5840/5840 [==============================] - 1s 228us/sample - loss: 0.8350 - acc: 0.6842 - val_loss: 0.8157 - val_acc: 0.6836\n",
            "Epoch 14/50\n",
            "5840/5840 [==============================] - 1s 225us/sample - loss: 0.7880 - acc: 0.6851 - val_loss: 0.7824 - val_acc: 0.6836\n",
            "Epoch 15/50\n",
            "5840/5840 [==============================] - 1s 228us/sample - loss: 0.7571 - acc: 0.6836 - val_loss: 0.7436 - val_acc: 0.6867\n",
            "Epoch 16/50\n",
            "5840/5840 [==============================] - 1s 228us/sample - loss: 0.7309 - acc: 0.6849 - val_loss: 0.7366 - val_acc: 0.6821\n",
            "Epoch 17/50\n",
            "5840/5840 [==============================] - 1s 226us/sample - loss: 0.7189 - acc: 0.6860 - val_loss: 0.7132 - val_acc: 0.6775\n",
            "Epoch 18/50\n",
            "5840/5840 [==============================] - 1s 226us/sample - loss: 0.6992 - acc: 0.6791 - val_loss: 0.7041 - val_acc: 0.6836\n",
            "Epoch 19/50\n",
            "5840/5840 [==============================] - 1s 227us/sample - loss: 0.6831 - acc: 0.6829 - val_loss: 0.6929 - val_acc: 0.6806\n",
            "Epoch 20/50\n",
            "5840/5840 [==============================] - 1s 225us/sample - loss: 0.6705 - acc: 0.6861 - val_loss: 0.6706 - val_acc: 0.6790\n",
            "Epoch 21/50\n",
            "5840/5840 [==============================] - 1s 229us/sample - loss: 0.6634 - acc: 0.6884 - val_loss: 0.6963 - val_acc: 0.6466\n",
            "Epoch 22/50\n",
            "5840/5840 [==============================] - 1s 219us/sample - loss: 0.6584 - acc: 0.6851 - val_loss: 0.6602 - val_acc: 0.6867\n",
            "Epoch 23/50\n",
            "5840/5840 [==============================] - 1s 218us/sample - loss: 0.6476 - acc: 0.6887 - val_loss: 0.6558 - val_acc: 0.6867\n",
            "Epoch 24/50\n",
            "5840/5840 [==============================] - 1s 223us/sample - loss: 0.6423 - acc: 0.6897 - val_loss: 0.6473 - val_acc: 0.6806\n",
            "Epoch 25/50\n",
            "5840/5840 [==============================] - 1s 226us/sample - loss: 0.6395 - acc: 0.6870 - val_loss: 0.6489 - val_acc: 0.6790\n",
            "Epoch 26/50\n",
            "5840/5840 [==============================] - 1s 224us/sample - loss: 0.6394 - acc: 0.6844 - val_loss: 0.6502 - val_acc: 0.6821\n",
            "Epoch 27/50\n",
            "5840/5840 [==============================] - 1s 226us/sample - loss: 0.6345 - acc: 0.6872 - val_loss: 0.6426 - val_acc: 0.6852\n",
            "Epoch 28/50\n",
            "5840/5840 [==============================] - 1s 229us/sample - loss: 0.6324 - acc: 0.6863 - val_loss: 0.6381 - val_acc: 0.6821\n",
            "Epoch 29/50\n",
            "5840/5840 [==============================] - 1s 231us/sample - loss: 0.6299 - acc: 0.6861 - val_loss: 0.6346 - val_acc: 0.6898\n",
            "Epoch 30/50\n",
            "5840/5840 [==============================] - 1s 232us/sample - loss: 0.6281 - acc: 0.6882 - val_loss: 0.6408 - val_acc: 0.6852\n",
            "Epoch 31/50\n",
            "5840/5840 [==============================] - 1s 223us/sample - loss: 0.6276 - acc: 0.6868 - val_loss: 0.6386 - val_acc: 0.6867\n",
            "Epoch 32/50\n",
            "5840/5840 [==============================] - 1s 222us/sample - loss: 0.6269 - acc: 0.6872 - val_loss: 0.6298 - val_acc: 0.6744\n",
            "Epoch 33/50\n",
            "5840/5840 [==============================] - 1s 226us/sample - loss: 0.6263 - acc: 0.6887 - val_loss: 0.6348 - val_acc: 0.6883\n",
            "Epoch 34/50\n",
            "5840/5840 [==============================] - 1s 243us/sample - loss: 0.6246 - acc: 0.6880 - val_loss: 0.6279 - val_acc: 0.6867\n",
            "Epoch 35/50\n",
            "5840/5840 [==============================] - 1s 242us/sample - loss: 0.6246 - acc: 0.6889 - val_loss: 0.6334 - val_acc: 0.6821\n",
            "Epoch 36/50\n",
            "5840/5840 [==============================] - 1s 254us/sample - loss: 0.6250 - acc: 0.6889 - val_loss: 0.6333 - val_acc: 0.6821\n",
            "Epoch 37/50\n",
            "5840/5840 [==============================] - 1s 250us/sample - loss: 0.6256 - acc: 0.6885 - val_loss: 0.6328 - val_acc: 0.6821\n",
            "Epoch 38/50\n",
            "5840/5840 [==============================] - 1s 255us/sample - loss: 0.6236 - acc: 0.6868 - val_loss: 0.6257 - val_acc: 0.6944\n",
            "Epoch 39/50\n",
            "5840/5840 [==============================] - 1s 250us/sample - loss: 0.6227 - acc: 0.6902 - val_loss: 0.6260 - val_acc: 0.6960\n",
            "Epoch 40/50\n",
            "5840/5840 [==============================] - 2s 259us/sample - loss: 0.6226 - acc: 0.6918 - val_loss: 0.6300 - val_acc: 0.6883\n",
            "Epoch 41/50\n",
            "5840/5840 [==============================] - 2s 261us/sample - loss: 0.6205 - acc: 0.6906 - val_loss: 0.6313 - val_acc: 0.6867\n",
            "Epoch 42/50\n",
            "5840/5840 [==============================] - 2s 266us/sample - loss: 0.6225 - acc: 0.6909 - val_loss: 0.6253 - val_acc: 0.6852\n",
            "Epoch 43/50\n",
            "5840/5840 [==============================] - 2s 270us/sample - loss: 0.6211 - acc: 0.6892 - val_loss: 0.6255 - val_acc: 0.6898\n",
            "Epoch 44/50\n",
            "5840/5840 [==============================] - 2s 262us/sample - loss: 0.6218 - acc: 0.6920 - val_loss: 0.6302 - val_acc: 0.6821\n",
            "Epoch 45/50\n",
            "5840/5840 [==============================] - 2s 260us/sample - loss: 0.6216 - acc: 0.6911 - val_loss: 0.6292 - val_acc: 0.6821\n",
            "Epoch 46/50\n",
            "5840/5840 [==============================] - 2s 266us/sample - loss: 0.6222 - acc: 0.6901 - val_loss: 0.6322 - val_acc: 0.6898\n",
            "Epoch 47/50\n",
            "5840/5840 [==============================] - 2s 260us/sample - loss: 0.6234 - acc: 0.6889 - val_loss: 0.6320 - val_acc: 0.6914\n",
            "Epoch 48/50\n",
            "5840/5840 [==============================] - 1s 252us/sample - loss: 0.6217 - acc: 0.6901 - val_loss: 0.6269 - val_acc: 0.6944\n",
            "Epoch 49/50\n",
            "5840/5840 [==============================] - 1s 242us/sample - loss: 0.6210 - acc: 0.6889 - val_loss: 0.6257 - val_acc: 0.6914\n",
            "Epoch 50/50\n",
            "5840/5840 [==============================] - 1s 235us/sample - loss: 0.6218 - acc: 0.6926 - val_loss: 0.6275 - val_acc: 0.6790\n"
          ],
          "name": "stdout"
        },
        {
          "output_type": "execute_result",
          "data": {
            "text/plain": [
              "0.6258844824749054"
            ]
          },
          "metadata": {
            "tags": []
          },
          "execution_count": 69
        }
      ]
    },
    {
      "cell_type": "code",
      "metadata": {
        "id": "SrtBJO0YkV-t",
        "outputId": "11c70a1d-599a-4843-ce21-5a3c88e9f038",
        "colab": {
          "base_uri": "https://localhost:8080/",
          "height": 332
        }
      },
      "source": [
        "%matplotlib inline\n",
        "import matplotlib.pyplot as plt\n",
        "\n",
        "fig, axes = plt.subplots(2, 1, sharex=True)\n",
        "axes[0].plot(hist.history['loss'], label='loss')\n",
        "axes[0].plot(hist.history['val_loss'], label='val_loss')\n",
        "\n",
        "axes[1].plot(hist.history['acc'], label='accuracy')\n",
        "axes[1].plot(hist.history['val_acc'], label='val_accuracy')\n",
        "\n",
        "fig.legend()\n",
        "plt.plot()"
      ],
      "execution_count": null,
      "outputs": [
        {
          "output_type": "execute_result",
          "data": {
            "text/plain": [
              "[]"
            ]
          },
          "metadata": {
            "tags": []
          },
          "execution_count": 70
        },
        {
          "output_type": "display_data",
          "data": {
            "image/png": "[encoded data removed]",
            "text/plain": [
              "<Figure size 432x288 with 2 Axes>"
            ]
          },
          "metadata": {
            "tags": []
          }
        }
      ]
    },
    {
      "cell_type": "code",
      "metadata": {
        "id": "B8dxPhQ0lCmn",
        "outputId": "5753a693-09a8-4081-fd9d-f91bb4cab8e4",
        "colab": {
          "base_uri": "https://localhost:8080/",
          "height": 520
        }
      },
      "source": [
        "import tensorflow.keras.backend as K\n",
        "\n",
        "def make_model():\n",
        "  inp = keras.layers.Input(shape=(len(df_train.columns) - 1))\n",
        "  a = keras.layers.Dense(64)(inp)\n",
        "  b = keras.layers.Dense(64)(inp)\n",
        "  ab = keras.layers.Multiply()([a, b])\n",
        "  ab_s = keras.layers.Activation('softmax')(ab)\n",
        "  x = keras.layers.Dense(64)(inp)\n",
        "  p = keras.layers.Multiply()([ab_s, x])\n",
        "  h1 = keras.layers.Dense(16, activation='relu')(p)\n",
        "  out = keras.layers.Dense(1, activation='sigmoid')(h1)\n",
        "  model = keras.models.Model(inp, out)\n",
        "  model.compile(keras.optimizers.Adam(lr=0.001),\n",
        "                'binary_crossentropy', metrics=['acc'])\n",
        "  return model\n",
        "\n",
        "tf.set_random_seed(42)\n",
        "model = make_model()\n",
        "model.summary()\n",
        ""
      ],
      "execution_count": null,
      "outputs": [
        {
          "output_type": "stream",
          "text": [
            "Model: \"model_6\"\n",
            "__________________________________________________________________________________________________\n",
            "Layer (type)                    Output Shape         Param #     Connected to                     \n",
            "==================================================================================================\n",
            "input_23 (InputLayer)           [(None, 543)]        0                                            \n",
            "__________________________________________________________________________________________________\n",
            "dense_65 (Dense)                (None, 64)           34816       input_23[0][0]                   \n",
            "__________________________________________________________________________________________________\n",
            "dense_66 (Dense)                (None, 64)           34816       input_23[0][0]                   \n",
            "__________________________________________________________________________________________________\n",
            "multiply_2 (Multiply)           (None, 64)           0           dense_65[0][0]                   \n",
            "                                                                 dense_66[0][0]                   \n",
            "__________________________________________________________________________________________________\n",
            "activation_10 (Activation)      (None, 64)           0           multiply_2[0][0]                 \n",
            "__________________________________________________________________________________________________\n",
            "dense_67 (Dense)                (None, 64)           34816       input_23[0][0]                   \n",
            "__________________________________________________________________________________________________\n",
            "multiply_3 (Multiply)           (None, 64)           0           activation_10[0][0]              \n",
            "                                                                 dense_67[0][0]                   \n",
            "__________________________________________________________________________________________________\n",
            "dense_68 (Dense)                (None, 16)           1040        multiply_3[0][0]                 \n",
            "__________________________________________________________________________________________________\n",
            "dense_69 (Dense)                (None, 1)            17          dense_68[0][0]                   \n",
            "==================================================================================================\n",
            "Total params: 105,505\n",
            "Trainable params: 105,505\n",
            "Non-trainable params: 0\n",
            "__________________________________________________________________________________________________\n"
          ],
          "name": "stdout"
        }
      ]
    },
    {
      "cell_type": "code",
      "metadata": {
        "id": "a1bx3Y-NnbRz",
        "outputId": "89c938a6-1ba2-411e-9b15-c50aa83d8135",
        "colab": {
          "base_uri": "https://localhost:8080/",
          "height": 1000
        }
      },
      "source": [
        "hist = model.fit(df_train[data_cols].values, df_train['Class'].values,\n",
        "                validation_data=(df_test[data_cols].values, df_test['Class'].values),\n",
        "                epochs=50)\n",
        "\n",
        "\n",
        "y_pred = model.predict(df_test[data_cols].values)\n",
        "roc_auc_score(df_test['Class'].values, y_pred)"
      ],
      "execution_count": null,
      "outputs": [
        {
          "output_type": "stream",
          "text": [
            "Train on 5840 samples, validate on 648 samples\n",
            "Epoch 1/50\n",
            "5840/5840 [==============================] - 1s 188us/sample - loss: 0.6686 - acc: 0.6322 - val_loss: 0.6550 - val_acc: 0.6620\n",
            "Epoch 2/50\n",
            "5840/5840 [==============================] - 1s 106us/sample - loss: 0.6387 - acc: 0.6610 - val_loss: 0.6270 - val_acc: 0.6775\n",
            "Epoch 3/50\n",
            "5840/5840 [==============================] - 1s 109us/sample - loss: 0.6142 - acc: 0.6810 - val_loss: 0.6225 - val_acc: 0.6852\n",
            "Epoch 4/50\n",
            "5840/5840 [==============================] - 1s 107us/sample - loss: 0.6081 - acc: 0.6884 - val_loss: 0.6169 - val_acc: 0.6790\n",
            "Epoch 5/50\n",
            "5840/5840 [==============================] - 1s 105us/sample - loss: 0.6058 - acc: 0.6884 - val_loss: 0.6101 - val_acc: 0.6898\n",
            "Epoch 6/50\n",
            "5840/5840 [==============================] - 1s 101us/sample - loss: 0.6046 - acc: 0.6899 - val_loss: 0.6175 - val_acc: 0.6790\n",
            "Epoch 7/50\n",
            "5840/5840 [==============================] - 1s 101us/sample - loss: 0.6049 - acc: 0.6880 - val_loss: 0.6082 - val_acc: 0.6929\n",
            "Epoch 8/50\n",
            "5840/5840 [==============================] - 1s 101us/sample - loss: 0.6111 - acc: 0.6889 - val_loss: 0.6156 - val_acc: 0.6821\n",
            "Epoch 9/50\n",
            "5840/5840 [==============================] - 1s 103us/sample - loss: 0.6077 - acc: 0.6913 - val_loss: 0.6165 - val_acc: 0.6836\n",
            "Epoch 10/50\n",
            "5840/5840 [==============================] - 1s 102us/sample - loss: 0.6046 - acc: 0.6906 - val_loss: 0.6170 - val_acc: 0.6898\n",
            "Epoch 11/50\n",
            "5840/5840 [==============================] - 1s 105us/sample - loss: 0.6069 - acc: 0.6908 - val_loss: 0.6150 - val_acc: 0.6806\n",
            "Epoch 12/50\n",
            "5840/5840 [==============================] - 1s 102us/sample - loss: 0.6039 - acc: 0.6918 - val_loss: 0.6233 - val_acc: 0.6883\n",
            "Epoch 13/50\n",
            "5840/5840 [==============================] - 1s 102us/sample - loss: 0.6047 - acc: 0.6935 - val_loss: 0.6114 - val_acc: 0.6744\n",
            "Epoch 14/50\n",
            "5840/5840 [==============================] - 1s 100us/sample - loss: 0.6042 - acc: 0.6916 - val_loss: 0.6160 - val_acc: 0.6898\n",
            "Epoch 15/50\n",
            "5840/5840 [==============================] - 1s 99us/sample - loss: 0.6046 - acc: 0.6908 - val_loss: 0.6163 - val_acc: 0.6836\n",
            "Epoch 16/50\n",
            "5840/5840 [==============================] - 1s 101us/sample - loss: 0.6048 - acc: 0.6914 - val_loss: 0.6144 - val_acc: 0.6806\n",
            "Epoch 17/50\n",
            "5840/5840 [==============================] - 1s 105us/sample - loss: 0.6077 - acc: 0.6866 - val_loss: 0.6157 - val_acc: 0.6821\n",
            "Epoch 18/50\n",
            "5840/5840 [==============================] - 1s 103us/sample - loss: 0.6046 - acc: 0.6897 - val_loss: 0.6168 - val_acc: 0.6883\n",
            "Epoch 19/50\n",
            "5840/5840 [==============================] - 1s 101us/sample - loss: 0.6031 - acc: 0.6925 - val_loss: 0.6146 - val_acc: 0.6821\n",
            "Epoch 20/50\n",
            "5840/5840 [==============================] - 1s 107us/sample - loss: 0.6024 - acc: 0.6925 - val_loss: 0.6155 - val_acc: 0.6883\n",
            "Epoch 21/50\n",
            "5840/5840 [==============================] - 1s 102us/sample - loss: 0.6030 - acc: 0.6913 - val_loss: 0.6120 - val_acc: 0.6898\n",
            "Epoch 22/50\n",
            "5840/5840 [==============================] - 1s 102us/sample - loss: 0.6028 - acc: 0.6923 - val_loss: 0.6150 - val_acc: 0.6821\n",
            "Epoch 23/50\n",
            "5840/5840 [==============================] - 1s 103us/sample - loss: 0.6038 - acc: 0.6928 - val_loss: 0.6139 - val_acc: 0.6821\n",
            "Epoch 24/50\n",
            "5840/5840 [==============================] - 1s 101us/sample - loss: 0.6032 - acc: 0.6902 - val_loss: 0.6098 - val_acc: 0.6836\n",
            "Epoch 25/50\n",
            "5840/5840 [==============================] - 1s 102us/sample - loss: 0.6041 - acc: 0.6916 - val_loss: 0.6149 - val_acc: 0.6883\n",
            "Epoch 26/50\n",
            "5840/5840 [==============================] - 1s 100us/sample - loss: 0.6045 - acc: 0.6899 - val_loss: 0.6146 - val_acc: 0.6759\n",
            "Epoch 27/50\n",
            "5840/5840 [==============================] - 1s 101us/sample - loss: 0.6030 - acc: 0.6909 - val_loss: 0.6178 - val_acc: 0.6821\n",
            "Epoch 28/50\n",
            "5840/5840 [==============================] - 1s 103us/sample - loss: 0.6035 - acc: 0.6908 - val_loss: 0.6153 - val_acc: 0.6867\n",
            "Epoch 29/50\n",
            "5840/5840 [==============================] - 1s 101us/sample - loss: 0.6046 - acc: 0.6916 - val_loss: 0.6160 - val_acc: 0.6806\n",
            "Epoch 30/50\n",
            "5840/5840 [==============================] - 1s 100us/sample - loss: 0.6026 - acc: 0.6921 - val_loss: 0.6179 - val_acc: 0.6806\n",
            "Epoch 31/50\n",
            "5840/5840 [==============================] - 1s 101us/sample - loss: 0.6045 - acc: 0.6884 - val_loss: 0.6158 - val_acc: 0.6852\n",
            "Epoch 32/50\n",
            "5840/5840 [==============================] - 1s 102us/sample - loss: 0.6026 - acc: 0.6923 - val_loss: 0.6183 - val_acc: 0.6790\n",
            "Epoch 33/50\n",
            "5840/5840 [==============================] - 1s 102us/sample - loss: 0.6036 - acc: 0.6880 - val_loss: 0.6140 - val_acc: 0.6744\n",
            "Epoch 34/50\n",
            "5840/5840 [==============================] - 1s 102us/sample - loss: 0.6051 - acc: 0.6890 - val_loss: 0.6184 - val_acc: 0.6867\n",
            "Epoch 35/50\n",
            "5840/5840 [==============================] - 1s 101us/sample - loss: 0.6028 - acc: 0.6913 - val_loss: 0.6156 - val_acc: 0.6790\n",
            "Epoch 36/50\n",
            "5840/5840 [==============================] - 1s 101us/sample - loss: 0.6024 - acc: 0.6933 - val_loss: 0.6146 - val_acc: 0.6836\n",
            "Epoch 37/50\n",
            "5840/5840 [==============================] - 1s 106us/sample - loss: 0.6034 - acc: 0.6921 - val_loss: 0.6168 - val_acc: 0.6836\n",
            "Epoch 38/50\n",
            "5840/5840 [==============================] - 1s 102us/sample - loss: 0.6033 - acc: 0.6911 - val_loss: 0.6153 - val_acc: 0.6836\n",
            "Epoch 39/50\n",
            "5840/5840 [==============================] - 1s 105us/sample - loss: 0.6015 - acc: 0.6896 - val_loss: 0.6157 - val_acc: 0.6821\n",
            "Epoch 40/50\n",
            "5840/5840 [==============================] - 1s 104us/sample - loss: 0.6023 - acc: 0.6913 - val_loss: 0.6170 - val_acc: 0.6821\n",
            "Epoch 41/50\n",
            "5840/5840 [==============================] - 1s 102us/sample - loss: 0.6017 - acc: 0.6885 - val_loss: 0.6156 - val_acc: 0.6790\n",
            "Epoch 42/50\n",
            "5840/5840 [==============================] - 1s 105us/sample - loss: 0.6024 - acc: 0.6909 - val_loss: 0.6156 - val_acc: 0.6867\n",
            "Epoch 43/50\n",
            "5840/5840 [==============================] - 1s 108us/sample - loss: 0.6008 - acc: 0.6911 - val_loss: 0.6157 - val_acc: 0.6852\n",
            "Epoch 44/50\n",
            "5840/5840 [==============================] - 1s 111us/sample - loss: 0.6034 - acc: 0.6899 - val_loss: 0.6185 - val_acc: 0.6775\n",
            "Epoch 45/50\n",
            "5840/5840 [==============================] - 1s 108us/sample - loss: 0.6016 - acc: 0.6926 - val_loss: 0.6159 - val_acc: 0.6852\n",
            "Epoch 46/50\n",
            "5840/5840 [==============================] - 1s 107us/sample - loss: 0.6028 - acc: 0.6916 - val_loss: 0.6167 - val_acc: 0.6806\n",
            "Epoch 47/50\n",
            "5840/5840 [==============================] - 1s 107us/sample - loss: 0.6013 - acc: 0.6890 - val_loss: 0.6148 - val_acc: 0.6867\n",
            "Epoch 48/50\n",
            "5840/5840 [==============================] - 1s 108us/sample - loss: 0.6019 - acc: 0.6894 - val_loss: 0.6180 - val_acc: 0.6728\n",
            "Epoch 49/50\n",
            "5840/5840 [==============================] - 1s 109us/sample - loss: 0.6021 - acc: 0.6920 - val_loss: 0.6108 - val_acc: 0.6821\n",
            "Epoch 50/50\n",
            "5840/5840 [==============================] - 1s 115us/sample - loss: 0.6019 - acc: 0.6897 - val_loss: 0.6094 - val_acc: 0.6775\n"
          ],
          "name": "stdout"
        },
        {
          "output_type": "execute_result",
          "data": {
            "text/plain": [
              "0.6335979924304755"
            ]
          },
          "metadata": {
            "tags": []
          },
          "execution_count": 86
        }
      ]
    },
    {
      "cell_type": "code",
      "metadata": {
        "id": "RxZwkzKhoqPO",
        "outputId": "8d57ddc2-0eb8-4ce8-a710-b52749923344",
        "colab": {
          "base_uri": "https://localhost:8080/",
          "height": 699
        }
      },
      "source": [
        "import lightgbm as lgb\n",
        "\n",
        "train_data = lgb.Dataset(df_train[data_cols].values, label=df_train['Class'])\n",
        "eval_data = lgb.Dataset(df_test[data_cols].values, label=df_test['Class'])\n",
        "\n",
        "param = {\n",
        "    'num_leaves': 31,\n",
        "    'objective': 'binary',\n",
        "    'metric': 'auc',\n",
        "}\n",
        "\n",
        "bst = lgb.train(param, train_data, 500, valid_sets=[eval_data],\n",
        "                early_stopping_rounds=5)\n",
        "bst.save_model('model.txt', num_iteration=bst.best_iteration)"
      ],
      "execution_count": null,
      "outputs": [
        {
          "output_type": "stream",
          "text": [
            "[1]\tvalid_0's auc: 0.724731\n",
            "Training until validation scores don't improve for 5 rounds.\n",
            "[2]\tvalid_0's auc: 0.737\n",
            "[3]\tvalid_0's auc: 0.741181\n",
            "[4]\tvalid_0's auc: 0.747295\n",
            "[5]\tvalid_0's auc: 0.749583\n",
            "[6]\tvalid_0's auc: 0.752725\n",
            "[7]\tvalid_0's auc: 0.75723\n",
            "[8]\tvalid_0's auc: 0.754782\n",
            "[9]\tvalid_0's auc: 0.758778\n",
            "[10]\tvalid_0's auc: 0.760547\n",
            "[11]\tvalid_0's auc: 0.760727\n",
            "[12]\tvalid_0's auc: 0.759133\n",
            "[13]\tvalid_0's auc: 0.758932\n",
            "[14]\tvalid_0's auc: 0.762912\n",
            "[15]\tvalid_0's auc: 0.764424\n",
            "[16]\tvalid_0's auc: 0.770297\n",
            "[17]\tvalid_0's auc: 0.773105\n",
            "[18]\tvalid_0's auc: 0.776673\n",
            "[19]\tvalid_0's auc: 0.777424\n",
            "[20]\tvalid_0's auc: 0.777697\n",
            "[21]\tvalid_0's auc: 0.782057\n",
            "[22]\tvalid_0's auc: 0.782448\n",
            "[23]\tvalid_0's auc: 0.783281\n",
            "[24]\tvalid_0's auc: 0.783086\n",
            "[25]\tvalid_0's auc: 0.783693\n",
            "[26]\tvalid_0's auc: 0.783333\n",
            "[27]\tvalid_0's auc: 0.784042\n",
            "[28]\tvalid_0's auc: 0.784413\n",
            "[29]\tvalid_0's auc: 0.785822\n",
            "[30]\tvalid_0's auc: 0.785822\n",
            "[31]\tvalid_0's auc: 0.786469\n",
            "[32]\tvalid_0's auc: 0.784752\n",
            "[33]\tvalid_0's auc: 0.784968\n",
            "[34]\tvalid_0's auc: 0.784423\n",
            "[35]\tvalid_0's auc: 0.784526\n",
            "[36]\tvalid_0's auc: 0.786089\n",
            "Early stopping, best iteration is:\n",
            "[31]\tvalid_0's auc: 0.786469\n"
          ],
          "name": "stdout"
        },
        {
          "output_type": "execute_result",
          "data": {
            "text/plain": [
              "<lightgbm.basic.Booster at 0x7f72969170f0>"
            ]
          },
          "metadata": {
            "tags": []
          },
          "execution_count": 92
        }
      ]
    },
    {
      "cell_type": "code",
      "metadata": {
        "id": "lJgj-uMUp2TN",
        "outputId": "f02a1114-f1d0-49a0-b31f-b21936040862",
        "colab": {
          "base_uri": "https://localhost:8080/",
          "height": 74
        }
      },
      "source": [
        "y_pred = bst.predict(df_test[data_cols].values)\n",
        "roc_auc_score(df_test['Class'].values, y_pred)"
      ],
      "execution_count": null,
      "outputs": [
        {
          "output_type": "execute_result",
          "data": {
            "text/plain": [
              "0.7864694750699358"
            ]
          },
          "metadata": {
            "tags": []
          },
          "execution_count": 93
        }
      ]
    },
    {
      "cell_type": "code",
      "metadata": {
        "id": "Xvr11sWk6mrR",
        "colab": {
          "base_uri": "https://localhost:8080/",
          "height": 747
        },
        "outputId": "89fe3228-cf53-49f1-fe61-a9d132082f48"
      },
      "source": [
        "!pip install -U git+https://github.com/pedro-r-marques/keras-opt"
      ],
      "execution_count": null,
      "outputs": [
        {
          "output_type": "stream",
          "text": [
            "Collecting git+https://github.com/pedro-r-marques/keras-opt\n",
            "  Cloning https://github.com/pedro-r-marques/keras-opt to /tmp/pip-req-build-gy2fky6l\n",
            "  Running command git clone -q https://github.com/pedro-r-marques/keras-opt /tmp/pip-req-build-gy2fky6l\n",
            "Requirement already satisfied, skipping upgrade: numpy in /usr/local/lib/python3.6/dist-packages (from keras-opt==0.0.1) (1.16.4)\n",
            "Requirement already satisfied, skipping upgrade: tensorflow in /usr/local/lib/python3.6/dist-packages (from keras-opt==0.0.1) (1.14.0)\n",
            "Requirement already satisfied, skipping upgrade: scipy in /usr/local/lib/python3.6/dist-packages (from keras-opt==0.0.1) (1.3.0)\n",
            "Requirement already satisfied, skipping upgrade: tqdm in /usr/local/lib/python3.6/dist-packages (from keras-opt==0.0.1) (4.28.1)\n",
            "Requirement already satisfied, skipping upgrade: protobuf>=3.6.1 in /usr/local/lib/python3.6/dist-packages (from tensorflow->keras-opt==0.0.1) (3.7.1)\n",
            "Requirement already satisfied, skipping upgrade: wheel>=0.26 in /usr/local/lib/python3.6/dist-packages (from tensorflow->keras-opt==0.0.1) (0.33.4)\n",
            "Requirement already satisfied, skipping upgrade: google-pasta>=0.1.6 in /usr/local/lib/python3.6/dist-packages (from tensorflow->keras-opt==0.0.1) (0.1.7)\n",
            "Requirement already satisfied, skipping upgrade: grpcio>=1.8.6 in /usr/local/lib/python3.6/dist-packages (from tensorflow->keras-opt==0.0.1) (1.15.0)\n",
            "Requirement already satisfied, skipping upgrade: six>=1.10.0 in /usr/local/lib/python3.6/dist-packages (from tensorflow->keras-opt==0.0.1) (1.12.0)\n",
            "Requirement already satisfied, skipping upgrade: keras-applications>=1.0.6 in /usr/local/lib/python3.6/dist-packages (from tensorflow->keras-opt==0.0.1) (1.0.8)\n",
            "Requirement already satisfied, skipping upgrade: keras-preprocessing>=1.0.5 in /usr/local/lib/python3.6/dist-packages (from tensorflow->keras-opt==0.0.1) (1.1.0)\n",
            "Requirement already satisfied, skipping upgrade: tensorboard<1.15.0,>=1.14.0 in /usr/local/lib/python3.6/dist-packages (from tensorflow->keras-opt==0.0.1) (1.14.0)\n",
            "Requirement already satisfied, skipping upgrade: termcolor>=1.1.0 in /usr/local/lib/python3.6/dist-packages (from tensorflow->keras-opt==0.0.1) (1.1.0)\n",
            "Requirement already satisfied, skipping upgrade: gast>=0.2.0 in /usr/local/lib/python3.6/dist-packages (from tensorflow->keras-opt==0.0.1) (0.2.2)\n",
            "Requirement already satisfied, skipping upgrade: tensorflow-estimator<1.15.0rc0,>=1.14.0rc0 in /usr/local/lib/python3.6/dist-packages (from tensorflow->keras-opt==0.0.1) (1.14.0)\n",
            "Requirement already satisfied, skipping upgrade: wrapt>=1.11.1 in /usr/local/lib/python3.6/dist-packages (from tensorflow->keras-opt==0.0.1) (1.11.2)\n",
            "Requirement already satisfied, skipping upgrade: astor>=0.6.0 in /usr/local/lib/python3.6/dist-packages (from tensorflow->keras-opt==0.0.1) (0.8.0)\n",
            "Requirement already satisfied, skipping upgrade: absl-py>=0.7.0 in /usr/local/lib/python3.6/dist-packages (from tensorflow->keras-opt==0.0.1) (0.7.1)\n",
            "Requirement already satisfied, skipping upgrade: setuptools in /usr/local/lib/python3.6/dist-packages (from protobuf>=3.6.1->tensorflow->keras-opt==0.0.1) (41.0.1)\n",
            "Requirement already satisfied, skipping upgrade: h5py in /usr/local/lib/python3.6/dist-packages (from keras-applications>=1.0.6->tensorflow->keras-opt==0.0.1) (2.8.0)\n",
            "Requirement already satisfied, skipping upgrade: werkzeug>=0.11.15 in /usr/local/lib/python3.6/dist-packages (from tensorboard<1.15.0,>=1.14.0->tensorflow->keras-opt==0.0.1) (0.15.4)\n",
            "Requirement already satisfied, skipping upgrade: markdown>=2.6.8 in /usr/local/lib/python3.6/dist-packages (from tensorboard<1.15.0,>=1.14.0->tensorflow->keras-opt==0.0.1) (3.1.1)\n",
            "Building wheels for collected packages: keras-opt\n",
            "  Building wheel for keras-opt (setup.py) ... \u001b[?25l\u001b[?25hdone\n",
            "  Stored in directory: /tmp/pip-ephem-wheel-cache-9u472ckt/wheels/d4/18/de/5cd090c5023561c52cd3d35efd0b2fd4de9010330ae7b295c5\n",
            "Successfully built keras-opt\n",
            "Installing collected packages: keras-opt\n",
            "  Found existing installation: keras-opt 0.0.1\n",
            "    Uninstalling keras-opt-0.0.1:\n",
            "      Successfully uninstalled keras-opt-0.0.1\n",
            "Successfully installed keras-opt-0.0.1\n"
          ],
          "name": "stdout"
        }
      ]
    },
    {
      "cell_type": "code",
      "metadata": {
        "id": "-eM_CX_S3pw5",
        "colab": {
          "base_uri": "https://localhost:8080/",
          "height": 322
        },
        "outputId": "cd8f3f00-8cee-4380-e545-7e0e13a87090"
      },
      "source": [
        "keras = tf.keras\n",
        "\n",
        "tf.set_random_seed(42)\n",
        "\n",
        "model = keras.models.Sequential([\n",
        "    keras.layers.Input(shape=(len(df_train.columns) - 1)),\n",
        "    keras.layers.Dense(64, activation='linear',\n",
        "                       kernel_regularizer=keras.regularizers.l2(0.001)),\n",
        "    keras.layers.Dense(48, activation='relu',\n",
        "                       kernel_regularizer=keras.regularizers.l2(0.001)),\n",
        "    keras.layers.Dense(32, activation='sigmoid',\n",
        "                       kernel_regularizer=keras.regularizers.l2(0.001)),\n",
        "    keras.layers.Dense(1, activation='sigmoid',\n",
        "                       kernel_regularizer=keras.regularizers.l2(0.001))\n",
        "])\n",
        "\n",
        "model.compile(keras.optimizers.Adam(lr=0.0001), 'binary_crossentropy', metrics=['acc'])\n",
        "model.summary()"
      ],
      "execution_count": null,
      "outputs": [
        {
          "output_type": "stream",
          "text": [
            "Model: \"sequential_2\"\n",
            "_________________________________________________________________\n",
            "Layer (type)                 Output Shape              Param #   \n",
            "=================================================================\n",
            "dense_8 (Dense)              (None, 64)                34816     \n",
            "_________________________________________________________________\n",
            "dense_9 (Dense)              (None, 48)                3120      \n",
            "_________________________________________________________________\n",
            "dense_10 (Dense)             (None, 32)                1568      \n",
            "_________________________________________________________________\n",
            "dense_11 (Dense)             (None, 1)                 33        \n",
            "=================================================================\n",
            "Total params: 39,537\n",
            "Trainable params: 39,537\n",
            "Non-trainable params: 0\n",
            "_________________________________________________________________\n"
          ],
          "name": "stdout"
        }
      ]
    },
    {
      "cell_type": "code",
      "metadata": {
        "id": "rTBl6qqL3zC2"
      },
      "source": [
        "# hist = model.fit(df_train[data_cols].values, df_train['Class'].values,\n",
        "#                 validation_data=(df_test[data_cols].values, df_test['Class'].values),\n",
        "#                 epochs=50, verbose=False)\n",
        "\n",
        "\n",
        "# y_pred = model.predict(df_test[data_cols].values)\n",
        "# print(hist.history['loss'][-1], hist.history['acc'][-1])\n",
        "# print(hist.history['val_loss'][-1], hist.history['val_acc'][-1])\n",
        "# roc_auc_score(df_test['Class'].values, y_pred)"
      ],
      "execution_count": null,
      "outputs": []
    },
    {
      "cell_type": "code",
      "metadata": {
        "id": "Wwe7Lncg4zEb"
      },
      "source": [
        "from keras_opt.scipy_optimizer import GradientObserver, ScipyOptimizer\n",
        "\n",
        "model.compile(optimizer=GradientObserver(),\n",
        "              loss='binary_crossentropy', metrics=['acc'])\n",
        "\n",
        "opt = ScipyOptimizer(model)\n"
      ],
      "execution_count": null,
      "outputs": []
    },
    {
      "cell_type": "code",
      "metadata": {
        "id": "aQ_RasbRGG_p"
      },
      "source": [
        "data_cols = list(df_train.columns)\n",
        "data_cols.remove('Class')\n",
        "\n",
        "result, hist = opt.fit(\n",
        "    df_train[data_cols].values, df_train['Class'].values,\n",
        "    validation_data=(df_test[data_cols].values, df_test['Class'].values),\n",
        "    epochs=1000, verbose=False)\n",
        "\n"
      ],
      "execution_count": null,
      "outputs": []
    },
    {
      "cell_type": "code",
      "metadata": {
        "id": "URNr11OGHTi5",
        "colab": {
          "base_uri": "https://localhost:8080/",
          "height": 289
        },
        "outputId": "4dac44ff-063c-4b7f-d696-70376a11fc97"
      },
      "source": [
        "from sklearn.metrics import roc_auc_score\n",
        "\n",
        "print(result)\n",
        "\n",
        "y_pred = model.predict(df_test[data_cols].values)\n",
        "print(hist.history['loss'][-1], hist.history['acc'][-1])\n",
        "print(hist.history['val_loss'][-1], hist.history['val_acc'][-1])\n",
        "roc_auc_score(df_test['Class'].values, y_pred)"
      ],
      "execution_count": null,
      "outputs": [
        {
          "output_type": "stream",
          "text": [
            "     fun: 0.7079229354858398\n",
            "     jac: array([ 1.01360847e-05,  4.79942537e-05,  9.59809913e-05, ...,\n",
            "       -7.87499477e-04,  5.24362724e-04,  1.09598514e-04])\n",
            " message: 'Maximum number of iterations has been exceeded.'\n",
            "    nfev: 1788\n",
            "     nit: 1000\n",
            "    njev: 1788\n",
            "  status: 1\n",
            " success: False\n",
            "       x: array([ 0.00507845,  0.02399812,  0.04799348, ...,  0.17585444,\n",
            "       -0.27212561, -0.10263521])\n",
            "0.70792294 0.7087329\n",
            "0.7233912944793701 0.6959876418113708\n"
          ],
          "name": "stdout"
        },
        {
          "output_type": "execute_result",
          "data": {
            "text/plain": [
              "0.6679179693927926"
            ]
          },
          "metadata": {
            "tags": []
          },
          "execution_count": 28
        }
      ]
    },
    {
      "cell_type": "code",
      "metadata": {
        "id": "-zv45gDbdDgY",
        "colab": {
          "base_uri": "https://localhost:8080/",
          "height": 332
        },
        "outputId": "02a3c167-4182-4850-a791-173f3e213760"
      },
      "source": [
        "%matplotlib inline\n",
        "import matplotlib.pyplot as plt\n",
        "\n",
        "fig, axes = plt.subplots(2, 1, sharex=True)\n",
        "axes[0].plot(hist.history['loss'], label='loss')\n",
        "axes[0].plot(hist.history['val_loss'], label='val_loss')\n",
        "\n",
        "axes[1].plot(hist.history['acc'], label='accuracy')\n",
        "axes[1].plot(hist.history['val_acc'], label='val_accuracy')\n",
        "\n",
        "fig.legend()\n",
        "plt.plot()"
      ],
      "execution_count": null,
      "outputs": [
        {
          "output_type": "execute_result",
          "data": {
            "text/plain": [
              "[]"
            ]
          },
          "metadata": {
            "tags": []
          },
          "execution_count": 29
        },
        {
          "output_type": "display_data",
          "data": {
            "image/png": "[encoded data removed]",
            "text/plain": [
              "<Figure size 432x288 with 2 Axes>"
            ]
          },
          "metadata": {
            "tags": []
          }
        }
      ]
    },
    {
      "cell_type": "code",
      "metadata": {
        "id": "oI-YQWkNgbD5",
        "colab": {
          "base_uri": "https://localhost:8080/",
          "height": 408
        },
        "outputId": "6406a134-ab4f-47b4-cead-133c56175886"
      },
      "source": [
        "import tensorflow.keras.backend as K\n",
        "\n",
        "class Selector(keras.layers.Layer):\n",
        "    def __init__(self, output_dim, **kwargs):\n",
        "        self.output_dim = output_dim\n",
        "        super(Selector, self).__init__(**kwargs)\n",
        "\n",
        "    def build(self, input_shape):\n",
        "        # Create a trainable weight variable for this layer.\n",
        "        self.kernel = self.add_weight(name='kernel',\n",
        "                                      shape=(int(input_shape[1]), self.output_dim),\n",
        "                                      initializer='uniform',\n",
        "                                      trainable=True)\n",
        "        super(Selector, self).build(input_shape)  # Be sure to call this at the end\n",
        "\n",
        "    def call(self, x):\n",
        "        act = K.softmax(K.transpose(self.kernel))\n",
        "        return tf.matmul(x, act, transpose_b=True)\n",
        "\n",
        "    def compute_output_shape(self, input_shape):\n",
        "        return (input_shape[0], self.output_dim)\n",
        "\n",
        "def make_model():\n",
        "  inp = keras.layers.Input(shape=(len(df_train.columns) - 1,))\n",
        "  r = keras.layers.Reshape((len(df_train.columns) - 1, 1,))(inp)\n",
        "  v = keras.layers.LocallyConnected1D(10, 1)(r)\n",
        "  v = keras.layers.Flatten()(v)\n",
        "  q = Selector(32)(v)\n",
        "  out = keras.layers.Dense(1, activation='sigmoid')(q)\n",
        "  model = keras.models.Model(inp, out)\n",
        "  model.compile(keras.optimizers.Adam(lr=0.001),\n",
        "                'binary_crossentropy', metrics=['acc'])\n",
        "  return model\n",
        "\n",
        "tf.set_random_seed(42)\n",
        "model = make_model()\n",
        "model.summary()\n",
        "\n"
      ],
      "execution_count": null,
      "outputs": [
        {
          "output_type": "stream",
          "text": [
            "Model: \"model\"\n",
            "_________________________________________________________________\n",
            "Layer (type)                 Output Shape              Param #   \n",
            "=================================================================\n",
            "input_14 (InputLayer)        [(None, 543)]             0         \n",
            "_________________________________________________________________\n",
            "reshape_8 (Reshape)          (None, 543, 1)            0         \n",
            "_________________________________________________________________\n",
            "locally_connected1d_7 (Local (None, 543, 10)           10860     \n",
            "_________________________________________________________________\n",
            "flatten_5 (Flatten)          (None, 5430)              0         \n",
            "_________________________________________________________________\n",
            "selector_5 (Selector)        (None, 32)                173760    \n",
            "_________________________________________________________________\n",
            "dense_12 (Dense)             (None, 1)                 33        \n",
            "=================================================================\n",
            "Total params: 184,653\n",
            "Trainable params: 184,653\n",
            "Non-trainable params: 0\n",
            "_________________________________________________________________\n"
          ],
          "name": "stdout"
        }
      ]
    },
    {
      "cell_type": "code",
      "metadata": {
        "id": "gS1y9NsMmAb9",
        "colab": {
          "base_uri": "https://localhost:8080/",
          "height": 1000
        },
        "outputId": "49a3445c-2023-4882-cc42-f187a938b554"
      },
      "source": [
        "hist = model.fit(df_train[data_cols].values, df_train['Class'].values,\n",
        "                validation_data=(df_test[data_cols].values, df_test['Class'].values),\n",
        "                epochs=30)\n",
        "\n",
        "\n",
        "y_pred = model.predict(df_test[data_cols].values)\n",
        "roc_auc_score(df_test['Class'].values, y_pred)"
      ],
      "execution_count": null,
      "outputs": [
        {
          "output_type": "stream",
          "text": [
            "Train on 5840 samples, validate on 648 samples\n",
            "Epoch 1/30\n",
            "5840/5840 [==============================] - 6s 1ms/sample - loss: 0.6661 - acc: 0.6336 - val_loss: 0.6536 - val_acc: 0.6358\n",
            "Epoch 2/30\n",
            "5840/5840 [==============================] - 2s 387us/sample - loss: 0.6475 - acc: 0.6348 - val_loss: 0.6379 - val_acc: 0.6358\n",
            "Epoch 3/30\n",
            "5840/5840 [==============================] - 2s 363us/sample - loss: 0.6322 - acc: 0.6707 - val_loss: 0.6262 - val_acc: 0.6728\n",
            "Epoch 4/30\n",
            "5840/5840 [==============================] - 2s 366us/sample - loss: 0.6221 - acc: 0.6906 - val_loss: 0.6176 - val_acc: 0.6944\n",
            "Epoch 5/30\n",
            "5840/5840 [==============================] - 2s 385us/sample - loss: 0.6157 - acc: 0.6892 - val_loss: 0.6131 - val_acc: 0.6929\n",
            "Epoch 6/30\n",
            "5840/5840 [==============================] - 2s 379us/sample - loss: 0.6115 - acc: 0.6921 - val_loss: 0.6121 - val_acc: 0.6883\n",
            "Epoch 7/30\n",
            "5840/5840 [==============================] - 2s 353us/sample - loss: 0.6093 - acc: 0.6901 - val_loss: 0.6130 - val_acc: 0.6929\n",
            "Epoch 8/30\n",
            "5840/5840 [==============================] - 2s 376us/sample - loss: 0.6091 - acc: 0.6906 - val_loss: 0.6133 - val_acc: 0.6867\n",
            "Epoch 9/30\n",
            "5840/5840 [==============================] - 2s 383us/sample - loss: 0.6081 - acc: 0.6914 - val_loss: 0.6149 - val_acc: 0.6898\n",
            "Epoch 10/30\n",
            "5840/5840 [==============================] - 2s 389us/sample - loss: 0.6075 - acc: 0.6933 - val_loss: 0.6133 - val_acc: 0.6883\n",
            "Epoch 11/30\n",
            "5840/5840 [==============================] - 2s 381us/sample - loss: 0.6081 - acc: 0.6930 - val_loss: 0.6131 - val_acc: 0.6960\n",
            "Epoch 12/30\n",
            "5840/5840 [==============================] - 2s 382us/sample - loss: 0.6079 - acc: 0.6909 - val_loss: 0.6139 - val_acc: 0.6898\n",
            "Epoch 13/30\n",
            "5840/5840 [==============================] - 2s 392us/sample - loss: 0.6072 - acc: 0.6913 - val_loss: 0.6143 - val_acc: 0.6914\n",
            "Epoch 14/30\n",
            "5840/5840 [==============================] - 2s 386us/sample - loss: 0.6069 - acc: 0.6938 - val_loss: 0.6128 - val_acc: 0.6898\n",
            "Epoch 15/30\n",
            "5840/5840 [==============================] - 2s 387us/sample - loss: 0.6067 - acc: 0.6916 - val_loss: 0.6130 - val_acc: 0.6944\n",
            "Epoch 16/30\n",
            "5840/5840 [==============================] - 2s 406us/sample - loss: 0.6062 - acc: 0.6913 - val_loss: 0.6141 - val_acc: 0.6883\n",
            "Epoch 17/30\n",
            "5840/5840 [==============================] - 3s 436us/sample - loss: 0.6059 - acc: 0.6909 - val_loss: 0.6132 - val_acc: 0.6914\n",
            "Epoch 18/30\n",
            "5840/5840 [==============================] - 3s 433us/sample - loss: 0.6063 - acc: 0.6911 - val_loss: 0.6163 - val_acc: 0.6929\n",
            "Epoch 19/30\n",
            "5840/5840 [==============================] - 3s 429us/sample - loss: 0.6065 - acc: 0.6914 - val_loss: 0.6139 - val_acc: 0.6914\n",
            "Epoch 20/30\n",
            "5840/5840 [==============================] - 2s 407us/sample - loss: 0.6065 - acc: 0.6904 - val_loss: 0.6136 - val_acc: 0.6929\n",
            "Epoch 21/30\n",
            "5840/5840 [==============================] - 2s 393us/sample - loss: 0.6055 - acc: 0.6920 - val_loss: 0.6136 - val_acc: 0.6775\n",
            "Epoch 22/30\n",
            "5840/5840 [==============================] - 2s 366us/sample - loss: 0.6058 - acc: 0.6902 - val_loss: 0.6129 - val_acc: 0.6883\n",
            "Epoch 23/30\n",
            "5840/5840 [==============================] - 2s 371us/sample - loss: 0.6052 - acc: 0.6933 - val_loss: 0.6130 - val_acc: 0.6883\n",
            "Epoch 24/30\n",
            "5840/5840 [==============================] - 2s 363us/sample - loss: 0.6049 - acc: 0.6932 - val_loss: 0.6129 - val_acc: 0.6883\n",
            "Epoch 25/30\n",
            "5840/5840 [==============================] - 2s 372us/sample - loss: 0.6048 - acc: 0.6923 - val_loss: 0.6124 - val_acc: 0.6898\n",
            "Epoch 26/30\n",
            "5840/5840 [==============================] - 2s 362us/sample - loss: 0.6049 - acc: 0.6918 - val_loss: 0.6126 - val_acc: 0.6898\n",
            "Epoch 27/30\n",
            "5840/5840 [==============================] - 2s 363us/sample - loss: 0.6040 - acc: 0.6921 - val_loss: 0.6126 - val_acc: 0.6883\n",
            "Epoch 28/30\n",
            "5840/5840 [==============================] - 2s 376us/sample - loss: 0.6042 - acc: 0.6906 - val_loss: 0.6123 - val_acc: 0.6914\n",
            "Epoch 29/30\n",
            "5840/5840 [==============================] - 2s 373us/sample - loss: 0.6032 - acc: 0.6925 - val_loss: 0.6139 - val_acc: 0.6914\n",
            "Epoch 30/30\n",
            "5840/5840 [==============================] - 2s 405us/sample - loss: 0.6035 - acc: 0.6933 - val_loss: 0.6125 - val_acc: 0.6914\n"
          ],
          "name": "stdout"
        },
        {
          "output_type": "execute_result",
          "data": {
            "text/plain": [
              "0.6288773243376666"
            ]
          },
          "metadata": {
            "tags": []
          },
          "execution_count": 41
        }
      ]
    }
  ]
}